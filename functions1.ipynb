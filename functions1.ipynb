{
  "cells": [
    {
      "cell_type": "markdown",
      "metadata": {
        "id": "AIfn1OtjuPkJ"
      },
      "source": [
        "# theoritical qustion\n"
      ]
    },
    {
      "cell_type": "markdown",
      "metadata": {
        "id": "eeSpPQ0Fyr3n"
      },
      "source": [
        "1. What is the difference between a function and a method in Python?\n",
        "   - function = function is an block of code which define an specific condition . function can be reused after defining therefor once we have made a any function in further usage will be kept exicuting over and over . there are some inbuilt function too in python for extance - type(),sum()  these function have been defined alredy by someone else we are to use to dicractly needless to make any code for them  ultimatly it saves our time .\n",
        "   def greet (name):\n",
        "     return f\"hello {name} welcome to our store\"\n",
        "\n",
        "   - method = method is tied to class basiclly and usully opertes by object which is part of that class . these are always part of call mean local to class therfor cannot be written ouside of the class . methods are called using dot.notation\n",
        "\n",
        "\n",
        "2. Explain the concept of function arguments and parameters in Python ?\n",
        "   -parameter =  perameter are virraibles , which is written inside the function . parameter allow,s user to pass any kind of data in the place of itself . these are mostly assosiated along with some operations in function . if user does not pass any data in the form of arguments then it throws an error  .\n",
        "\n",
        "\n",
        "  -  function arguments =  while calling function these arguments  are writen mean these argumetents are passed in the place of perameters like an value of varriable afterwards our function get exicute and performs the operatons .These arguments follow an order and assigned to those varriable on the behalf of order .\n",
        "\n",
        "\n",
        "3. What are the different ways to define and call a function in Python ?\n",
        "  - funtions - ways to define = 1. using def keywords, here we define our function rigth after the def however it,s an easy method to define function .\n",
        "  ex - def name():\n",
        " \"here block of code .\n",
        " - 2nd = by passing  postional arguments inside parameters\n",
        "  - 3rd = witout passing any arguments inside parameters mean simple funcion\n",
        "  - 4th = using vrriable arguments , here our function except n number of input from user\n",
        "  - 5th = by passing key word argument , here our function axpect n number of input but in key words format\n",
        "  - 6th = passing default arguments , here if user does not pass any sort of value then this arugment will be consider by default .\n",
        "\n",
        " - WAYS TO CALL ANY FUNCTION\n",
        " - 1th = calling our function without any argument mean simple .\n",
        " - 2th = passing postional arguments while calling the function which directly goes to peramenters\n",
        " - 3th = leaving the argument place empty when we have defined default arguemt already in the function\n",
        " - 4th = giving unlimited values in argument section when we had defined varriable length argument\n",
        " -5th - passing elments in key value pair in arguments ,\n",
        " - these are some ways to define function and call , there might be some left , but that,s i konw\n",
        "\n",
        "\n",
        "4. What is the purpose of the `return` statement in a Python function?\n",
        "  - return = it gives the outcome as it is . for instance when we defince any int / str in function and exicute using print so our function is considred as a none data type . but when we use return having same data it gives output in same data type . if we have stored string inside our data so outcome would be in string only not as a none data type . therfor return is used more then any other yield , print\n",
        "  - ex = def name(a):\n",
        "        return name\n",
        "  - here if user write his/ her name then same data type will be returned .\n",
        "\n",
        "\n",
        "5. What are iterators in Python and how do they differ from iterables?\n",
        "   - To be clear lets first dicuss itrables = mean any kind of object or any data type which can return it members one by one is called itrable like - list , tuples , sets, dictionery .\n",
        "   itrators = but how python determine that selected object to itrate or not , here itrators comes in light , after checking that object if it is itrable or not then our itrator makes that perticller object is ready for the itration . beacuse python has to make each and every itrable object ready for itration . any itrable object can not be itrated directly therefor itrator is used .\n",
        "\n",
        "\n",
        "6. Explain the concept of generators in Python and how they are defined ?\n",
        "  - first genrator is totally diffrent from normal function beacuse gerators are defined by (yield) on the other hand normal function by ( return ) .  Genrator basically does not provide the entire outcome in one go rather it is returned one by one . So we can iter each and every velues one by one using = next() . here because of this concept no matter how big our data is , it never consume much time to exicute it . ex . in fabnacchi series .\n",
        "\n",
        "\n",
        "7. What are the advantages of using generators over regular functions?\n",
        "   - advantage of genrators = 1. It does not return the entire calculation in one go therefor memory usasage is not too much like normal function\n",
        "   - 2. genrator return the outcome one by one therefor no matter how much big our data is exicution does not get increase . which makes it more relevent for use in industry .\n",
        "   - 3.  here we have yield which create genrator same as iter\n",
        "\n",
        "\n",
        "8. What is a lambda function in Python and when is it typically used ?  \n",
        "  - lambda =  (anonymos , shortend ) lambda does not have its any name therfor it is called anynmos .in addition is always shorter and clean  then another normal function , so we can define any code here in shorter way . even lambda funtion itself can be used inside reduce , map and filter function which makes it more apropriate therefor being used extancivly in the industry .\n",
        "  \n",
        "  - ex = here our lembda will check vlaue is even or odd =\n",
        "  check = lambda x : x % 2 ==0\n",
        "check(5)\n",
        " - lambda in all kind of mathmatical calculation / comparision provide return in true and false\n",
        "\n",
        "\n",
        "9 .  Explain the purpose and usage of the `map()` function in Python ?\n",
        "   - map = map function is always written inside list , if we write it normally without list it will throw an error . in map function two things are takes as a input function and itrable object . but either we can defince function inside the map or can pass the already written function here both are right way . the fuction which we pass with map will be exicuted on the itrable .\n",
        "   it exicutes an specific function on each and every item from itrable .\n",
        "   -example of usage = list1 = [2,3,4,5,6,7]\n",
        "   add = list(map(lambda a : a +2,list1))\n",
        "   add  \n",
        "   here  two  value is being added on each and every item of itrable . by using lambda which is stored inside map .\n",
        "\n",
        "\n",
        "\n",
        "10. What is the difference between `map()`, `reduce()`, and `filter()` functions in Python?\n",
        "  - reduce = it foldes the entire itrable and returns one values as an outcome . baically it is not an predefined keyword therefor we have to import it from functools library . thing which make it diffrent from rest ( map , filter ) is it always take two argument if we don,t give two then eror will ocour . needless to defince reduce inside list , it is defined normally .\n",
        " here itrable itme which is defined to get the task perfomred should not be empty otherwise i will throw an error\n",
        " - ex. add of some values  == list1 = [2,3,4,5,6,7]  \n",
        "    sum = reduce(lambda a ,b : a +b, list1)\n",
        "    sum\n",
        "\n",
        "  - filter == this function is bascilly used to filter out any value from all elemnts of itrable . here after filtration rest values are removed  and relevent values get printed in output . but this is always defined inside list otherwise it will throw an error .its simliar to rest like  - here function and itrables are taken as input .  \n",
        "  ex = we are filtring here odd number from an given list\n",
        "  - list1 = [2,3,4,5,6,7]   \n",
        "  - odd = list(filter(lambda a : a % 2 != 0 ,list1)) here all odd numbers has been filtred out .\n",
        "\n",
        "  = map = map is slightly diffrent from all above function. Map does not filter out any value from elements neither foldes the elemtnes . here mapping is being done over itrables using function . map is writen in list not alone like reduce . here we can writen arguments as much we want or according to our function . it is not tied with two argument like reduce .\n",
        "\n",
        "  - so these are some diffrences among map , reduce , filter ..\n",
        "\n",
        "\n",
        "\n",
        "\n",
        "\n"
      ]
    },
    {
      "cell_type": "markdown",
      "metadata": {
        "id": "K8gfpemRL8Rh"
      },
      "source": [
        "11.  Using pen & Paper write the internal mechanism for sum operation using  reduce function on this given\n",
        "list:[47,11,42,13];  ?\n",
        " - answer of this qustion is atteched with bellow link , have a look -\n",
        " - [link text](https://drive.google.com/file/d/19TJ6Ax75SaPXYlvIGLY_psuKP-zPxgwY/view?usp=drive_link)"
      ]
    },
    {
      "cell_type": "code",
      "execution_count": null,
      "metadata": {},
      "outputs": [],
      "source": [
        "\n"
      ]
    },
    {
      "cell_type": "markdown",
      "metadata": {
        "id": "_fCYZmD6NbE9"
      },
      "source": [
        "## pratical qustions\n"
      ]
    },
    {
      "cell_type": "code",
      "execution_count": null,
      "metadata": {
        "id": "d-Kdrn0Q2Hy1"
      },
      "outputs": [],
      "source": [
        "# 1. Write a Python function that takes a list of numbers as input and returns the sum of all even numbers in the list ?\n",
        "def sum_numbers (*numb):\n",
        "  list1 =[]\n",
        "  for n in numb:\n",
        "    if n % 2 == 0:\n",
        "      list1.append(n)# here we got even numbers .\n",
        "      sum_n =sum(list1) # here sum function has been exicuted on all even numbers\n",
        "  return sum_n\n",
        "\n"
      ]
    },
    {
      "cell_type": "code",
      "execution_count": null,
      "metadata": {
        "colab": {
          "base_uri": "https://localhost:8080/"
        },
        "id": "ISfMQ4Wa2LMY",
        "outputId": "e31ec4fc-9857-4918-babb-169fc86a39b1"
      },
      "outputs": [
        {
          "data": {
            "text/plain": [
              "86"
            ]
          },
          "execution_count": 2,
          "metadata": {},
          "output_type": "execute_result"
        }
      ],
      "source": [
        "sum_numbers(2,3,4,5,6,7,8,23,45,66)"
      ]
    },
    {
      "cell_type": "code",
      "execution_count": null,
      "metadata": {
        "id": "h1JFF_pc2Q3V"
      },
      "outputs": [],
      "source": [
        "# 2. Create a Python function that accepts a string and returns the reverse of that string ?\n",
        "def str_revrse(string):\n",
        "  return string[::-1]"
      ]
    },
    {
      "cell_type": "code",
      "execution_count": null,
      "metadata": {
        "colab": {
          "base_uri": "https://localhost:8080/",
          "height": 36
        },
        "id": "SaOHvbFD2_An",
        "outputId": "f28cfbc0-5c0c-4832-d0bc-e48b34078f58"
      },
      "outputs": [
        {
          "data": {
            "application/vnd.google.colaboratory.intrinsic+json": {
              "type": "string"
            },
            "text/plain": [
              "'neevrap'"
            ]
          },
          "execution_count": 4,
          "metadata": {},
          "output_type": "execute_result"
        }
      ],
      "source": [
        "str_revrse(\"parveen\")"
      ]
    },
    {
      "cell_type": "code",
      "execution_count": null,
      "metadata": {
        "id": "YQMg4WVF3CRx"
      },
      "outputs": [],
      "source": [
        "#3.  Implement a Python function that takes a list of integers and returns a new list containing the squares of each number ?\n",
        "def squres (*numbers):\n",
        "  new_list =[]\n",
        "  for n in numbers:\n",
        "    new_list.append(n**2) # here each and every item is being converted into squre as well as being added in above new_list (using append function )\n",
        "  return new_list"
      ]
    },
    {
      "cell_type": "code",
      "execution_count": null,
      "metadata": {
        "colab": {
          "base_uri": "https://localhost:8080/"
        },
        "id": "7JjN8uCV40Sm",
        "outputId": "6e6b50d2-38f6-4b17-bbc4-befc093bf76f"
      },
      "outputs": [
        {
          "data": {
            "text/plain": [
              "[16, 25, 36, 49, 64, 484, 900]"
            ]
          },
          "execution_count": 6,
          "metadata": {},
          "output_type": "execute_result"
        }
      ],
      "source": [
        "squres(4,5,6,7,8,22,30)"
      ]
    },
    {
      "cell_type": "code",
      "execution_count": null,
      "metadata": {
        "id": "0vTa2ByoFwuR"
      },
      "outputs": [],
      "source": [
        "# 4. . Write a Python function that checks if a given number is prime or not from 1 to 200 ?\n",
        "def is_prime(num):\n",
        "    \"\"\"\n",
        "    Checks if a number is prime.\n",
        "    \"\"\"\n",
        "    if num <= 1:  # Numbers less than or equal to 1 are not prime\n",
        "        return False\n",
        "    for i in range(2, int(num**0.5) + 1):  # Check divisors up to sqrt(num)\n",
        "        if num % i == 0:\n",
        "            return False  # If divisible, it's not prime\n",
        "    return True\n",
        "\n",
        "def prime_numbers_in_range(start, end):\n",
        "    \"\"\"\n",
        "    Finds all prime numbers in a given range.\n",
        "    \"\"\"\n",
        "    primes = []\n",
        "    for num in range(start, end + 1):  # Iterate from start to end\n",
        "        if is_prime(num):  # Check if the number is prime\n",
        "            primes.append(num)\n",
        "    return primes\n"
      ]
    },
    {
      "cell_type": "code",
      "execution_count": null,
      "metadata": {
        "colab": {
          "base_uri": "https://localhost:8080/"
        },
        "id": "Z5yBaHYEFyQR",
        "outputId": "76d1a3c4-6914-4fb0-fd81-ff29be0d29d7"
      },
      "outputs": [
        {
          "name": "stdout",
          "output_type": "stream",
          "text": [
            "[2, 3, 5, 7, 11, 13, 17, 19, 23, 29, 31, 37, 41, 43, 47, 53, 59, 61, 67, 71, 73, 79, 83, 89, 97, 101, 103, 107, 109, 113, 127, 131, 137, 139, 149, 151, 157, 163, 167, 173, 179, 181, 191, 193, 197, 199]\n"
          ]
        }
      ],
      "source": [
        "output = prime_numbers_in_range(1,200)\n",
        "print(output)"
      ]
    },
    {
      "cell_type": "code",
      "execution_count": null,
      "metadata": {
        "id": "MwejH2IpGc7Q"
      },
      "outputs": [],
      "source": [
        "#5. Create an iterator class in Python that generates the Fibonacci sequence up to a specified number of terms ?\n",
        "def feb (n):\n",
        "  a = 0\n",
        "  b = 1\n",
        "  for s in range(n):\n",
        "    yield a\n",
        "    a,b =b, a+b"
      ]
    },
    {
      "cell_type": "code",
      "execution_count": null,
      "metadata": {
        "id": "CB8FMhMUI9Ey"
      },
      "outputs": [],
      "source": [
        "f =feb(4)"
      ]
    },
    {
      "cell_type": "code",
      "execution_count": null,
      "metadata": {
        "colab": {
          "base_uri": "https://localhost:8080/"
        },
        "id": "xIXrNc81SLsz",
        "outputId": "ca16eed1-b350-4354-b694-e250fc4d01bc"
      },
      "outputs": [
        {
          "data": {
            "text/plain": [
              "0"
            ]
          },
          "execution_count": 70,
          "metadata": {},
          "output_type": "execute_result"
        }
      ],
      "source": [
        "next(f)"
      ]
    },
    {
      "cell_type": "code",
      "execution_count": null,
      "metadata": {
        "colab": {
          "base_uri": "https://localhost:8080/"
        },
        "id": "DIgj4EY3TZJM",
        "outputId": "88071e8f-6879-45b4-edc8-713e29eb225f"
      },
      "outputs": [
        {
          "data": {
            "text/plain": [
              "1"
            ]
          },
          "execution_count": 71,
          "metadata": {},
          "output_type": "execute_result"
        }
      ],
      "source": [
        "next(f)"
      ]
    },
    {
      "cell_type": "code",
      "execution_count": null,
      "metadata": {
        "colab": {
          "base_uri": "https://localhost:8080/"
        },
        "id": "SGUO1gVPUBrZ",
        "outputId": "73d59d32-ef0e-4a85-c473-e0a4cbd90158"
      },
      "outputs": [
        {
          "data": {
            "text/plain": [
              "1"
            ]
          },
          "execution_count": 72,
          "metadata": {},
          "output_type": "execute_result"
        }
      ],
      "source": [
        "next(f)"
      ]
    },
    {
      "cell_type": "code",
      "execution_count": null,
      "metadata": {
        "colab": {
          "base_uri": "https://localhost:8080/"
        },
        "id": "5Hr6zprfUCgD",
        "outputId": "0497fcaf-9e3d-420d-cb19-a2dbb9d471b7"
      },
      "outputs": [
        {
          "data": {
            "text/plain": [
              "2"
            ]
          },
          "execution_count": 73,
          "metadata": {},
          "output_type": "execute_result"
        }
      ],
      "source": [
        "next(f) # 4th itration"
      ]
    },
    {
      "cell_type": "code",
      "execution_count": null,
      "metadata": {
        "colab": {
          "base_uri": "https://localhost:8080/"
        },
        "id": "IC3AuaBvUDVV",
        "outputId": "e7fd61f1-60ad-42d3-fd90-3e966ca9d6ad"
      },
      "outputs": [
        {
          "name": "stdout",
          "output_type": "stream",
          "text": [
            "1\n",
            "2\n",
            "4\n",
            "8\n",
            "16\n",
            "32\n",
            "64\n"
          ]
        }
      ],
      "source": [
        "# 6. . Write a generator function in Python that yields the powers of 2 up to a given exponent ?\n",
        "def max_exponent (numb):\n",
        "  for m in range(numb +1): # here m is itrating on each and every numb values (since numb is increasing by 1)\n",
        "     yield  2** m\n",
        "\n",
        "for power in max_exponent(6):\n",
        "  print(power)\n",
        "\n"
      ]
    },
    {
      "cell_type": "code",
      "execution_count": null,
      "metadata": {
        "colab": {
          "base_uri": "https://localhost:8080/"
        },
        "id": "g5bHBgmIZ0gu",
        "outputId": "ec243d98-0374-436e-cea4-e144d7fcc271"
      },
      "outputs": [
        {
          "name": "stdout",
          "output_type": "stream",
          "text": [
            "sort [(4, 2), (5, 3), (8, 4), (9, 7)]\n"
          ]
        }
      ],
      "source": [
        "# 8. Use a lambda function in Python to sort a list of tuples based on the second element of each tuple ?\n",
        "l = [(9,7),(8,4),(5,3),(4,2)] # here we have list having tuples\n",
        "\"\"\"\n",
        " here we have sorted the tuples using lambda on the behalf of second number\n",
        "\"\"\"\n",
        "sort = sorted(l,key =lambda x: x[1])\n",
        "print(\"sort\",sort)"
      ]
    },
    {
      "cell_type": "code",
      "execution_count": 24,
      "metadata": {
        "id": "brblxREZtmM8"
      },
      "outputs": [],
      "source": [
        "# 9.  Create a Python program that uses `filter()` to remove all the vowels from a given string.\n",
        "game = \"battleground mobile india\"\n",
        "def check_v (string):\n",
        "  vowls =\"aeiouAEIOU\"\n",
        "  count =\"\"\n",
        "  for v in string: # we are itrating on each and every vowls\n",
        "    if v not in vowls: # here our v is filtring out non vowls\n",
        "     count += v  # here all passed non vowls are being stored in count\n",
        "  return count\n",
        "# ABOVE IS USING NORMAL FUNCTION"
      ]
    },
    {
      "cell_type": "code",
      "execution_count": 37,
      "metadata": {
        "id": "JF9--KtdDQu1"
      },
      "outputs": [],
      "source": [
        "# NOW USING FILTER FUNCTION\n",
        "check = lambda string : \"\".join([elements for elements in string if elements not in \"aeiouAEIOU\"])\n",
        "final_output = list(filter(check ,game))\n"
      ]
    },
    {
      "cell_type": "code",
      "execution_count": 36,
      "metadata": {
        "colab": {
          "base_uri": "https://localhost:8080/"
        },
        "id": "bJfKCcLJ8Odg",
        "outputId": "76b408a9-1af9-45eb-879a-b1f4b991e869"
      },
      "outputs": [
        {
          "data": {
            "text/plain": [
              "['b', 't', 't', 'l', 'g', 'r', 'n', 'd', ' ', 'm', 'b', 'l', ' ', 'n', 'd']"
            ]
          },
          "execution_count": 36,
          "metadata": {},
          "output_type": "execute_result"
        }
      ],
      "source": [
        "final_output"
      ]
    },
    {
      "cell_type": "code",
      "execution_count": 50,
      "metadata": {
        "colab": {
          "base_uri": "https://localhost:8080/"
        },
        "id": "Hjt8A0eU8X0i",
        "outputId": "550cb177-9331-4738-fd68-59c8cf76c97c"
      },
      "outputs": [
        {
          "data": {
            "text/plain": [
              "[96.2, 92.6, 114.2, 117.8, 78.2, 83.6, 58.4, 54.8]"
            ]
          },
          "execution_count": 50,
          "metadata": {},
          "output_type": "execute_result"
        }
      ],
      "source": [
        "# 10. Write a Python program that uses `map()` to convert a list of temperatures from Celsius to Fahrenheit ?\n",
        "list2 = [34,32,44,46,24,27,13,11]\n",
        "temp_converter = lambda x : x * 9 / 5 + 35  # here ourlembda function is changing values into fhrenheit\n",
        "f = list(map(temp_converter, list2))\n",
        "f"
      ]
    },
    {
      "cell_type": "code",
      "execution_count": 49,
      "metadata": {
        "id": "oUsh5EeN_I9Q"
      },
      "outputs": [],
      "source": []
    },
    {
      "cell_type": "code",
      "execution_count": 46,
      "metadata": {
        "id": "JVS68eUHAK1F"
      },
      "outputs": [],
      "source": []
    },
    {
      "cell_type": "code",
      "execution_count": 49,
      "metadata": {
        "id": "bwTiBr34I1H5"
      },
      "outputs": [],
      "source": [
        "\n"
      ]
    },
    {
      "cell_type": "code",
      "execution_count": null,
      "metadata": {
        "id": "VZJ7Y7YmJ6xD"
      },
      "outputs": [],
      "source": []
    }
  ],
  "metadata": {
    "colab": {
      "provenance": []
    },
    "kernelspec": {
      "display_name": "base",
      "language": "python",
      "name": "python3"
    },
    "language_info": {
      "codemirror_mode": {
        "name": "ipython",
        "version": 3
      },
      "file_extension": ".py",
      "mimetype": "text/x-python",
      "name": "python",
      "nbconvert_exporter": "python",
      "pygments_lexer": "ipython3",
      "version": "3.12.7"
    }
  },
  "nbformat": 4,
  "nbformat_minor": 0
}
